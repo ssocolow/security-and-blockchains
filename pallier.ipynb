{
 "cells": [
  {
   "cell_type": "markdown",
   "metadata": {},
   "source": [
    "# Pallier Encryption Demo\n",
    "https://en.wikipedia.org/wiki/Paillier_cryptosystem"
   ]
  },
  {
   "cell_type": "markdown",
   "metadata": {},
   "source": [
    "## Key Generation"
   ]
  },
  {
   "cell_type": "code",
   "execution_count": 2,
   "metadata": {},
   "outputs": [],
   "source": [
    "import math\n",
    "\n",
    "# choose p and q prime numbers\n",
    "p = 7759\n",
    "q = 6983\n",
    "\n",
    "# calculate n and lamb\n",
    "n = p * q\n",
    "lamb = (p - 1) * (q - 1)\n",
    "\n",
    "# simpler variant\n",
    "g = n + 1\n",
    "\n",
    "def extended_gcd(a, b):\n",
    "    \"\"\"Extended Euclidean Algorithm to find x such that ax ≡ 1 (mod b).\"\"\"\n",
    "    if a == 0:\n",
    "        return b, 0, 1\n",
    "    gcd_val, x1, y1 = extended_gcd(b % a, a)\n",
    "    x = y1 - (b // a) * x1\n",
    "    y = x1\n",
    "    return gcd_val, x, y\n",
    "\n",
    "def mod_inverse(a, n):\n",
    "    \"\"\"Find modular inverse of a mod n using Extended Euclidean Algorithm.\"\"\"\n",
    "    gcd_val, x, _ = extended_gcd(a, n)\n",
    "    if gcd_val != 1:\n",
    "        raise ValueError(\"Modular inverse does not exist since gcd(ϕ(n), n) ≠ 1\")\n",
    "    return x % n  # Ensure the result is positive\n",
    "\n",
    "mu = mod_inverse(lamb, n)"
   ]
  },
  {
   "cell_type": "markdown",
   "metadata": {},
   "source": [
    "## Encryption"
   ]
  },
  {
   "cell_type": "code",
   "execution_count": 9,
   "metadata": {},
   "outputs": [
    {
     "name": "stdout",
     "output_type": "stream",
     "text": [
      "message: 123\n",
      "ciphertext: 2603914724305477\n"
     ]
    }
   ],
   "source": [
    "# message\n",
    "message = 123\n",
    "\n",
    "# fix an r - should be random and coprime to n but we can use something like hash of all private inputs for zkVM\n",
    "r = 3\n",
    "\n",
    "def encrypt(message, r):\n",
    "    return (pow(g, message, n**2) * pow(r, n, n**2)) % (n ** 2)\n",
    "\n",
    "ciphertext = encrypt(message, r)\n",
    "print(f\"message: {message}\")\n",
    "print(f\"ciphertext: {ciphertext}\")"
   ]
  },
  {
   "cell_type": "markdown",
   "metadata": {},
   "source": [
    "## Decryption"
   ]
  },
  {
   "cell_type": "code",
   "execution_count": 8,
   "metadata": {},
   "outputs": [
    {
     "name": "stdout",
     "output_type": "stream",
     "text": [
      "decrypted: 123\n"
     ]
    }
   ],
   "source": [
    "def L(x):\n",
    "    return (x - 1) // n\n",
    "\n",
    "def decrypt(ciphertext):\n",
    "    return L(pow(ciphertext, lamb, n**2)) * mu % n\n",
    "\n",
    "decrypted = decrypt(ciphertext)\n",
    "print(f\"decrypted: {decrypted}\")"
   ]
  },
  {
   "cell_type": "markdown",
   "metadata": {},
   "source": [
    "## Homomorphic Properties for Private Set Intersection"
   ]
  },
  {
   "cell_type": "code",
   "execution_count": 15,
   "metadata": {},
   "outputs": [
    {
     "name": "stdout",
     "output_type": "stream",
     "text": [
      "alice_bob_ciphertext: 1134436537042790\n",
      "alice_bob_decrypted: 54180764\n",
      "alice_bob_ciphertext: 1831226466728426\n",
      "alice_bob_decrypted: 0\n"
     ]
    }
   ],
   "source": [
    "from sympy import mod_inverse\n",
    "# The product of two ciphertexts decrypts to the sum of the plaintexts\n",
    "# D(E(m1, r1) * E(m2, r2)) mod n**n = m1 + m2 mod n\n",
    "\n",
    "# so if alice makes her E(m1, r1) and gets bob's E(m2, r2)\n",
    "# she finds the inverse of E(m2, r2) mod n**2\n",
    "# and multiplies it with E(m1, r1) to get m1 - m2 mod n\n",
    "# because D(E(m1,r1)^k mod n**2) = km1 mod n; k is -1 for us \n",
    "\n",
    "# situation 1: alice and bob have DIFFERENT answers\n",
    "alice_secret_answer = 123\n",
    "bob_secret_answer = 456\n",
    "\n",
    "alice_ciphertext = encrypt(alice_secret_answer, 3)\n",
    "bob_ciphertext = encrypt(bob_secret_answer, 5)\n",
    "bob_ciphertext_inv = mod_inverse(bob_ciphertext, n**2)\n",
    "\n",
    "alice_bob_ciphertext = alice_ciphertext * bob_ciphertext_inv % (n ** 2)\n",
    "print(f\"alice_bob_ciphertext: {alice_bob_ciphertext}\")\n",
    "\n",
    "alice_bob_decrypted = decrypt(alice_bob_ciphertext)\n",
    "print(f\"alice_bob_decrypted: {alice_bob_decrypted}\")\n",
    "\n",
    "# situation 2: alice and bob have the SAME answer\n",
    "alice_secret_answer = 123\n",
    "bob_secret_answer = 123\n",
    "\n",
    "alice_ciphertext = encrypt(alice_secret_answer, 3)\n",
    "bob_ciphertext = encrypt(bob_secret_answer, 5)\n",
    "bob_ciphertext_inv = mod_inverse(bob_ciphertext, n**2)\n",
    "\n",
    "alice_bob_ciphertext = alice_ciphertext * bob_ciphertext_inv % (n ** 2)\n",
    "print(f\"alice_bob_ciphertext: {alice_bob_ciphertext}\")\n",
    "\n",
    "alice_bob_decrypted = decrypt(alice_bob_ciphertext)\n",
    "print(f\"alice_bob_decrypted: {alice_bob_decrypted}\")"
   ]
  }
 ],
 "metadata": {
  "kernelspec": {
   "display_name": "base",
   "language": "python",
   "name": "python3"
  },
  "language_info": {
   "codemirror_mode": {
    "name": "ipython",
    "version": 3
   },
   "file_extension": ".py",
   "mimetype": "text/x-python",
   "name": "python",
   "nbconvert_exporter": "python",
   "pygments_lexer": "ipython3",
   "version": "3.12.2"
  }
 },
 "nbformat": 4,
 "nbformat_minor": 2
}
