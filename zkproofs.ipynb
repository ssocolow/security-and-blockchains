{
 "cells": [
  {
   "cell_type": "markdown",
   "metadata": {},
   "source": [
    "# Zero Knowledge Proofs with polynomials - following Vitalik's blog post"
   ]
  },
  {
   "cell_type": "markdown",
   "metadata": {},
   "source": [
    "## resources\n",
    "- https://github.com/ventali/awesome-zk?tab=readme-ov-file\n",
    "- https://vitalik.eth.limo/general/2021/01/26/snarks.html\n",
    "- https://vitalik.eth.limo/general/2022/06/15/using_snarks.html"
   ]
  },
  {
   "cell_type": "markdown",
   "metadata": {
    "vscode": {
     "languageId": "plaintext"
    }
   },
   "source": [
    "## general goals\n",
    "A succinct argument of knowledge (SNARK) proof alows a Prover to prove that some computation has some particular input in a way that the proof can be verified extremely quickly, even if the underlying computation is extremely expensive. We can also make a zero knowledge SNARK proof (zk-SNARK) where we can keep the inputs to the computation private."
   ]
  },
  {
   "cell_type": "markdown",
   "metadata": {
    "vscode": {
     "languageId": "plaintext"
    }
   },
   "source": [
    "## Plan of attack\n",
    "Polynomials can be created that contain arbitrary information. For example, I can create a polynomial F(x) where F(0) is the ascii value of the first character in moby dick, F(1) is the ascii value of the 2nd, F(2) is the ascii value of the third, ...  \n",
    "And an equation between polynomials can represent an arbitrary number of equations between numbers. For example, if I want to represent the equations:\n",
    "- `12 + 1 = 13`\n",
    "- `10 + 8 = 18`\n",
    "- `15 + 8 = 23`\n",
    "- `15 + 13 = 28`  \n",
    "\n",
    "I can do that with `A(x) + B(x) = C(x)` where A gives (12, 10, 15, 15) for x input (0, 1, 2, 3) and B gives (1, 8, 8, 13) for the same input and C gives (13,18,23,28) also for that input. We can make polynomials that pass through arbitrary points with [Lagrange Interpolation](https://en.wikipedia.org/wiki/Lagrange_polynomial). After going slowly through the Lagrange interpolation definition on wikipedia, and striving to understand each part, I can understand it enough to write a program that computes the polynomial coefficients of the Lagrange Polynomial passing through each target point. "
   ]
  },
  {
   "cell_type": "code",
   "execution_count": 36,
   "metadata": {},
   "outputs": [],
   "source": [
    "# use a symbolic mathematics library to handle algebra\n",
    "from sympy import *\n",
    "x = symbols('x')\n",
    "\n",
    "# returns the coefficients of the lagrange polynomial that equals target[0] at x=0, target[1] at x=1, ...\n",
    "# just can't have the first taget be zero because then 0/0 error\n",
    "def generate_coefficients(targets):\n",
    "    # hold all l_i (functions that give 1 at x=i and zero elsewhere)\n",
    "    l_formualas = []\n",
    "\n",
    "    # i is x_j in the wiki def\n",
    "    for i in range(len(targets)):\n",
    "        l_i_expression = 1\n",
    "    \n",
    "        # do for all m where m != j\n",
    "        for m in range(len(targets)):\n",
    "            if m != i:\n",
    "                part = (x - m) / (i - m)\n",
    "                l_i_expression *= part\n",
    "        l_formualas.append(l_i_expression)\n",
    "    \n",
    "    final = 0\n",
    "    # multiply each lagrange basis polynomial by what we want the function to be at x=i (because right now it's zero)\n",
    "    for i in range(len(targets)):\n",
    "        final += targets[i] * l_formualas[i]\n",
    "    return factor(final)"
   ]
  },
  {
   "cell_type": "code",
   "execution_count": 37,
   "metadata": {},
   "outputs": [
    {
     "data": {
      "image/png": "[encoded data removed]",
      "text/plain": [
       "<Figure size 640x480 with 1 Axes>"
      ]
     },
     "metadata": {},
     "output_type": "display_data"
    }
   ],
   "source": [
    "# visualize a polynomial\n",
    "import matplotlib.pyplot as plt\n",
    "import numpy as np\n",
    "\n",
    "# we want f(0) = 1, f(1) = 2, f(2) = 4\n",
    "f = generate_coefficients([1,2,4])\n",
    "\n",
    "xs = [x for x in np.arange(-4,4,0.1)]\n",
    "ys = [f.subs(x, num) for num in xs]\n",
    "\n",
    "# Points to highlight\n",
    "x_points = np.array([0, 1, 2])\n",
    "y_points = [f.subs(x, xp) for xp in x_points]  # Compute function values at x = 0, 1, 2\n",
    "\n",
    "plt.plot(xs, ys, label=f'y = {f}', color='blue')\n",
    "# Scatter plot for specific points\n",
    "plt.scatter(x_points, y_points, color='red', zorder=3, label='Highlighted points')\n",
    "\n",
    "# Annotate the points with coordinates\n",
    "for x, y in zip(x_points, y_points):\n",
    "    plt.annotate(f\"({x}, {y})\", (x, y), textcoords=\"offset points\", xytext=(5, 5), ha='center', fontsize=10, color='black')\n",
    "\n",
    "\n",
    "plt.show()"
   ]
  }
 ],
 "metadata": {
  "kernelspec": {
   "display_name": "base",
   "language": "python",
   "name": "python3"
  },
  "language_info": {
   "codemirror_mode": {
    "name": "ipython",
    "version": 3
   },
   "file_extension": ".py",
   "mimetype": "text/x-python",
   "name": "python",
   "nbconvert_exporter": "python",
   "pygments_lexer": "ipython3",
   "version": "3.12.2"
  }
 },
 "nbformat": 4,
 "nbformat_minor": 2
}
